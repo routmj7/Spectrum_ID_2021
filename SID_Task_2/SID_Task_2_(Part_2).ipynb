{
  "nbformat": 4,
  "nbformat_minor": 0,
  "metadata": {
    "colab": {
      "name": "TASK2(PART_II).txt",
      "provenance": [],
      "collapsed_sections": []
    },
    "kernelspec": {
      "name": "python3",
      "display_name": "Python 3"
    },
    "language_info": {
      "name": "python"
    }
  },
  "cells": [
    {
      "cell_type": "markdown",
      "metadata": {
        "id": "hK6jomUE-rpH"
      },
      "source": [
        "# <center>**TASK2 (PART-ll)**"
      ]
    },
    {
      "cell_type": "markdown",
      "metadata": {
        "id": "SdQ2oLe0Rw6C"
      },
      "source": [
        "# <center>**EXPLORATORY DATA ANALYSIS**</center>"
      ]
    },
    {
      "cell_type": "markdown",
      "metadata": {
        "id": "YUJLERl4_0Qv"
      },
      "source": [
        "### <center>**EDA is one of the crucial step in data science that allows us to achieve certain insights and statistical measure that is essential for the business continuity, stockholders and data scientists.**\n",
        "\n",
        "![EDA.jfif](data:image/jpeg;base64,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) </center>"
      ]
    },
    {
      "cell_type": "markdown",
      "metadata": {
        "id": "jEQogWyICczQ"
      },
      "source": [
        "### **Steps involved in EDA**\n",
        "\n",
        "###The steps mentioned below are helpful in performing EDA.You are suggested to do it if applicable in the dataset.\n",
        "\n",
        "- Check the shape of the data frame.\n",
        "- Check for null values.\n",
        "- Convert the variables into appropriate data types if there is a mismatch.\n",
        "- Check for the frequency of different classes in case of a categorical variable.\n",
        "- Check for distribution of continuous variables\n",
        "\n",
        "###Below is a checklist to guide you while performing EDA.\n",
        "\n",
        "- What kind of data do you have?\n",
        "- What’s missing from the data?\n",
        "- Where are the outliers?\n",
        "- How can you add, change or remove features to get more out of your data?\n",
        "  - Feature Selection\n",
        "  - Handling missing values\n",
        "  - Handling skewed data\n",
        "  - Handling outliers\n",
        "  - Encoding\n",
        "  - Feature Scaling\n",
        "\n",
        "Finally we have the most important question, \n",
        "\"What question are you trying to solve ?\"  \n",
        "You need to think about questions you can ask of a dataset.  \n",
        "Questions can be simple as \"What is the number of survivors?\" or \n",
        "\"Which gender had a better chance of survival?\"  \n",
        "You goal is to formulate your questions and making inferences.\n",
        "\n",
        "\n",
        "### **Resources**\n",
        "Watching:\n",
        "\n",
        "- [EDA using Python](https://www.youtube.com/watch?v=-o3AxdVcUtQ)\n",
        "- [Feature Selection-How To Drop Features Using Pearson Correlation](https://www.youtube.com/watch?v=FndwYNcVe0U&list=PLZoTAELRMXVPgjwJ8VyRoqmfNs2CJwhVH&index=2)\n",
        "\n",
        "\n",
        "Reading:\n",
        "\n",
        "- [How to Handle Missing Data with Python](https://machinelearningmastery.com/handle-missing-data-python/)\n",
        "- [Handling Skewness in Machine Learning](https://beingdatum.com/handling-skewness-in-machine-learning/)\n",
        "- [Transforming Skewed Data for Machine Learning](https://opendatascience.com/transforming-skewed-data-for-machine-learning/)\n",
        "- [5 Ways to Detect Outliers/Anomalies That Every Data Scientist Should Know](https://towardsdatascience.com/5-ways-to-detect-outliers-that-every-data-scientist-should-know-python-code-70a54335a623)\n",
        "- [Box Plot Diagram to Identify Outliers](https://www.whatissixsigma.net/box-plot-diagram-to-identify-outliers/)\n",
        "- [Convert a categorical variable to a number for Machine Learning Model Building](https://towardsdatascience.com/all-about-categorical-variable-encoding-305f3361fd02)\n"
      ]
    },
    {
      "cell_type": "code",
      "metadata": {
        "id": "-ruv7wZhDagl",
        "colab": {
          "base_uri": "https://localhost:8080/"
        },
        "outputId": "f1b78799-7b03-4fce-aa87-d9a00546574b"
      },
      "source": [
        "# run this cell before proceeding further\n",
        "!wget https://raw.githubusercontent.com/Spectrum-CETB/Data-Science-AI/main/Datasets/titanic.csv"
      ],
      "execution_count": 1,
      "outputs": [
        {
          "output_type": "stream",
          "text": [
            "--2021-07-10 03:16:17--  https://raw.githubusercontent.com/Spectrum-CETB/Data-Science-AI/main/Datasets/titanic.csv\n",
            "Resolving raw.githubusercontent.com (raw.githubusercontent.com)... 185.199.109.133, 185.199.108.133, 185.199.110.133, ...\n",
            "Connecting to raw.githubusercontent.com (raw.githubusercontent.com)|185.199.109.133|:443... connected.\n",
            "HTTP request sent, awaiting response... 200 OK\n",
            "Length: 61194 (60K) [text/plain]\n",
            "Saving to: ‘titanic.csv’\n",
            "\n",
            "\rtitanic.csv           0%[                    ]       0  --.-KB/s               \rtitanic.csv         100%[===================>]  59.76K  --.-KB/s    in 0.01s   \n",
            "\n",
            "2021-07-10 03:16:17 (5.13 MB/s) - ‘titanic.csv’ saved [61194/61194]\n",
            "\n"
          ],
          "name": "stdout"
        }
      ]
    },
    {
      "cell_type": "markdown",
      "metadata": {
        "id": "Nv3uwkinDa5B"
      },
      "source": [
        "*Make sure to run the above cell before loading the data*\n",
        "\n",
        "Use the 'titanic.csv' dataset for the questions in this section."
      ]
    },
    {
      "cell_type": "markdown",
      "metadata": {
        "id": "kobL5x94CfyS"
      },
      "source": [
        "#### **Using the concepts learnt till now perform EDA on the titanic datset**.\n",
        "\n",
        "#### The goal of this analysis is to analyse the data set, explore it answering related questions using data visualization and statistical methods.\n",
        "**With Titanic dataset analysis draw minimum 5 conclusions from  and also answer the following questions .**\n",
        "\n",
        "1)What is the overall passengers survival ratio?\n",
        "\n",
        "2)Which groups have higher chances for survival?\n"
      ]
    },
    {
      "cell_type": "code",
      "metadata": {
        "id": "mOBZUtsoErCp"
      },
      "source": [
        "import numpy as np\n",
        "import pandas as pd\n",
        "import matplotlib.pyplot as plt\n",
        "import seaborn as sns"
      ],
      "execution_count": 2,
      "outputs": []
    },
    {
      "cell_type": "code",
      "metadata": {
        "colab": {
          "base_uri": "https://localhost:8080/",
          "height": 363
        },
        "id": "E0ZwZDt5NFbv",
        "outputId": "94c14395-a717-467b-c889-d2e2aca7525b"
      },
      "source": [
        "df = pd.read_csv(\"titanic.csv\")\n",
        "df.head(10)"
      ],
      "execution_count": 3,
      "outputs": [
        {
          "output_type": "execute_result",
          "data": {
            "text/html": [
              "<div>\n",
              "<style scoped>\n",
              "    .dataframe tbody tr th:only-of-type {\n",
              "        vertical-align: middle;\n",
              "    }\n",
              "\n",
              "    .dataframe tbody tr th {\n",
              "        vertical-align: top;\n",
              "    }\n",
              "\n",
              "    .dataframe thead th {\n",
              "        text-align: right;\n",
              "    }\n",
              "</style>\n",
              "<table border=\"1\" class=\"dataframe\">\n",
              "  <thead>\n",
              "    <tr style=\"text-align: right;\">\n",
              "      <th></th>\n",
              "      <th>PassengerId</th>\n",
              "      <th>Survived</th>\n",
              "      <th>Pclass</th>\n",
              "      <th>Name</th>\n",
              "      <th>Sex</th>\n",
              "      <th>Age</th>\n",
              "      <th>SibSp</th>\n",
              "      <th>Parch</th>\n",
              "      <th>Ticket</th>\n",
              "      <th>Fare</th>\n",
              "      <th>Cabin</th>\n",
              "      <th>Embarked</th>\n",
              "    </tr>\n",
              "  </thead>\n",
              "  <tbody>\n",
              "    <tr>\n",
              "      <th>0</th>\n",
              "      <td>1</td>\n",
              "      <td>0</td>\n",
              "      <td>3</td>\n",
              "      <td>Braund, Mr. Owen Harris</td>\n",
              "      <td>male</td>\n",
              "      <td>22.0</td>\n",
              "      <td>1</td>\n",
              "      <td>0</td>\n",
              "      <td>A/5 21171</td>\n",
              "      <td>7.2500</td>\n",
              "      <td>NaN</td>\n",
              "      <td>S</td>\n",
              "    </tr>\n",
              "    <tr>\n",
              "      <th>1</th>\n",
              "      <td>2</td>\n",
              "      <td>1</td>\n",
              "      <td>1</td>\n",
              "      <td>Cumings, Mrs. John Bradley (Florence Briggs Th...</td>\n",
              "      <td>female</td>\n",
              "      <td>38.0</td>\n",
              "      <td>1</td>\n",
              "      <td>0</td>\n",
              "      <td>PC 17599</td>\n",
              "      <td>71.2833</td>\n",
              "      <td>C85</td>\n",
              "      <td>C</td>\n",
              "    </tr>\n",
              "    <tr>\n",
              "      <th>2</th>\n",
              "      <td>3</td>\n",
              "      <td>1</td>\n",
              "      <td>3</td>\n",
              "      <td>Heikkinen, Miss. Laina</td>\n",
              "      <td>female</td>\n",
              "      <td>26.0</td>\n",
              "      <td>0</td>\n",
              "      <td>0</td>\n",
              "      <td>STON/O2. 3101282</td>\n",
              "      <td>7.9250</td>\n",
              "      <td>NaN</td>\n",
              "      <td>S</td>\n",
              "    </tr>\n",
              "    <tr>\n",
              "      <th>3</th>\n",
              "      <td>4</td>\n",
              "      <td>1</td>\n",
              "      <td>1</td>\n",
              "      <td>Futrelle, Mrs. Jacques Heath (Lily May Peel)</td>\n",
              "      <td>female</td>\n",
              "      <td>35.0</td>\n",
              "      <td>1</td>\n",
              "      <td>0</td>\n",
              "      <td>113803</td>\n",
              "      <td>53.1000</td>\n",
              "      <td>C123</td>\n",
              "      <td>S</td>\n",
              "    </tr>\n",
              "    <tr>\n",
              "      <th>4</th>\n",
              "      <td>5</td>\n",
              "      <td>0</td>\n",
              "      <td>3</td>\n",
              "      <td>Allen, Mr. William Henry</td>\n",
              "      <td>male</td>\n",
              "      <td>35.0</td>\n",
              "      <td>0</td>\n",
              "      <td>0</td>\n",
              "      <td>373450</td>\n",
              "      <td>8.0500</td>\n",
              "      <td>NaN</td>\n",
              "      <td>S</td>\n",
              "    </tr>\n",
              "    <tr>\n",
              "      <th>5</th>\n",
              "      <td>6</td>\n",
              "      <td>0</td>\n",
              "      <td>3</td>\n",
              "      <td>Moran, Mr. James</td>\n",
              "      <td>male</td>\n",
              "      <td>NaN</td>\n",
              "      <td>0</td>\n",
              "      <td>0</td>\n",
              "      <td>330877</td>\n",
              "      <td>8.4583</td>\n",
              "      <td>NaN</td>\n",
              "      <td>Q</td>\n",
              "    </tr>\n",
              "    <tr>\n",
              "      <th>6</th>\n",
              "      <td>7</td>\n",
              "      <td>0</td>\n",
              "      <td>1</td>\n",
              "      <td>McCarthy, Mr. Timothy J</td>\n",
              "      <td>male</td>\n",
              "      <td>54.0</td>\n",
              "      <td>0</td>\n",
              "      <td>0</td>\n",
              "      <td>17463</td>\n",
              "      <td>51.8625</td>\n",
              "      <td>E46</td>\n",
              "      <td>S</td>\n",
              "    </tr>\n",
              "    <tr>\n",
              "      <th>7</th>\n",
              "      <td>8</td>\n",
              "      <td>0</td>\n",
              "      <td>3</td>\n",
              "      <td>Palsson, Master. Gosta Leonard</td>\n",
              "      <td>male</td>\n",
              "      <td>2.0</td>\n",
              "      <td>3</td>\n",
              "      <td>1</td>\n",
              "      <td>349909</td>\n",
              "      <td>21.0750</td>\n",
              "      <td>NaN</td>\n",
              "      <td>S</td>\n",
              "    </tr>\n",
              "    <tr>\n",
              "      <th>8</th>\n",
              "      <td>9</td>\n",
              "      <td>1</td>\n",
              "      <td>3</td>\n",
              "      <td>Johnson, Mrs. Oscar W (Elisabeth Vilhelmina Berg)</td>\n",
              "      <td>female</td>\n",
              "      <td>27.0</td>\n",
              "      <td>0</td>\n",
              "      <td>2</td>\n",
              "      <td>347742</td>\n",
              "      <td>11.1333</td>\n",
              "      <td>NaN</td>\n",
              "      <td>S</td>\n",
              "    </tr>\n",
              "    <tr>\n",
              "      <th>9</th>\n",
              "      <td>10</td>\n",
              "      <td>1</td>\n",
              "      <td>2</td>\n",
              "      <td>Nasser, Mrs. Nicholas (Adele Achem)</td>\n",
              "      <td>female</td>\n",
              "      <td>14.0</td>\n",
              "      <td>1</td>\n",
              "      <td>0</td>\n",
              "      <td>237736</td>\n",
              "      <td>30.0708</td>\n",
              "      <td>NaN</td>\n",
              "      <td>C</td>\n",
              "    </tr>\n",
              "  </tbody>\n",
              "</table>\n",
              "</div>"
            ],
            "text/plain": [
              "   PassengerId  Survived  Pclass  ...     Fare Cabin  Embarked\n",
              "0            1         0       3  ...   7.2500   NaN         S\n",
              "1            2         1       1  ...  71.2833   C85         C\n",
              "2            3         1       3  ...   7.9250   NaN         S\n",
              "3            4         1       1  ...  53.1000  C123         S\n",
              "4            5         0       3  ...   8.0500   NaN         S\n",
              "5            6         0       3  ...   8.4583   NaN         Q\n",
              "6            7         0       1  ...  51.8625   E46         S\n",
              "7            8         0       3  ...  21.0750   NaN         S\n",
              "8            9         1       3  ...  11.1333   NaN         S\n",
              "9           10         1       2  ...  30.0708   NaN         C\n",
              "\n",
              "[10 rows x 12 columns]"
            ]
          },
          "metadata": {
            "tags": []
          },
          "execution_count": 3
        }
      ]
    },
    {
      "cell_type": "code",
      "metadata": {
        "colab": {
          "base_uri": "https://localhost:8080/",
          "height": 300
        },
        "id": "g4V5HV__NFer",
        "outputId": "8cb14e8d-91e2-403b-d22a-f89f696875f6"
      },
      "source": [
        "df.describe()"
      ],
      "execution_count": 4,
      "outputs": [
        {
          "output_type": "execute_result",
          "data": {
            "text/html": [
              "<div>\n",
              "<style scoped>\n",
              "    .dataframe tbody tr th:only-of-type {\n",
              "        vertical-align: middle;\n",
              "    }\n",
              "\n",
              "    .dataframe tbody tr th {\n",
              "        vertical-align: top;\n",
              "    }\n",
              "\n",
              "    .dataframe thead th {\n",
              "        text-align: right;\n",
              "    }\n",
              "</style>\n",
              "<table border=\"1\" class=\"dataframe\">\n",
              "  <thead>\n",
              "    <tr style=\"text-align: right;\">\n",
              "      <th></th>\n",
              "      <th>PassengerId</th>\n",
              "      <th>Survived</th>\n",
              "      <th>Pclass</th>\n",
              "      <th>Age</th>\n",
              "      <th>SibSp</th>\n",
              "      <th>Parch</th>\n",
              "      <th>Fare</th>\n",
              "    </tr>\n",
              "  </thead>\n",
              "  <tbody>\n",
              "    <tr>\n",
              "      <th>count</th>\n",
              "      <td>891.000000</td>\n",
              "      <td>891.000000</td>\n",
              "      <td>891.000000</td>\n",
              "      <td>714.000000</td>\n",
              "      <td>891.000000</td>\n",
              "      <td>891.000000</td>\n",
              "      <td>891.000000</td>\n",
              "    </tr>\n",
              "    <tr>\n",
              "      <th>mean</th>\n",
              "      <td>446.000000</td>\n",
              "      <td>0.383838</td>\n",
              "      <td>2.308642</td>\n",
              "      <td>29.699118</td>\n",
              "      <td>0.523008</td>\n",
              "      <td>0.381594</td>\n",
              "      <td>32.204208</td>\n",
              "    </tr>\n",
              "    <tr>\n",
              "      <th>std</th>\n",
              "      <td>257.353842</td>\n",
              "      <td>0.486592</td>\n",
              "      <td>0.836071</td>\n",
              "      <td>14.526497</td>\n",
              "      <td>1.102743</td>\n",
              "      <td>0.806057</td>\n",
              "      <td>49.693429</td>\n",
              "    </tr>\n",
              "    <tr>\n",
              "      <th>min</th>\n",
              "      <td>1.000000</td>\n",
              "      <td>0.000000</td>\n",
              "      <td>1.000000</td>\n",
              "      <td>0.420000</td>\n",
              "      <td>0.000000</td>\n",
              "      <td>0.000000</td>\n",
              "      <td>0.000000</td>\n",
              "    </tr>\n",
              "    <tr>\n",
              "      <th>25%</th>\n",
              "      <td>223.500000</td>\n",
              "      <td>0.000000</td>\n",
              "      <td>2.000000</td>\n",
              "      <td>20.125000</td>\n",
              "      <td>0.000000</td>\n",
              "      <td>0.000000</td>\n",
              "      <td>7.910400</td>\n",
              "    </tr>\n",
              "    <tr>\n",
              "      <th>50%</th>\n",
              "      <td>446.000000</td>\n",
              "      <td>0.000000</td>\n",
              "      <td>3.000000</td>\n",
              "      <td>28.000000</td>\n",
              "      <td>0.000000</td>\n",
              "      <td>0.000000</td>\n",
              "      <td>14.454200</td>\n",
              "    </tr>\n",
              "    <tr>\n",
              "      <th>75%</th>\n",
              "      <td>668.500000</td>\n",
              "      <td>1.000000</td>\n",
              "      <td>3.000000</td>\n",
              "      <td>38.000000</td>\n",
              "      <td>1.000000</td>\n",
              "      <td>0.000000</td>\n",
              "      <td>31.000000</td>\n",
              "    </tr>\n",
              "    <tr>\n",
              "      <th>max</th>\n",
              "      <td>891.000000</td>\n",
              "      <td>1.000000</td>\n",
              "      <td>3.000000</td>\n",
              "      <td>80.000000</td>\n",
              "      <td>8.000000</td>\n",
              "      <td>6.000000</td>\n",
              "      <td>512.329200</td>\n",
              "    </tr>\n",
              "  </tbody>\n",
              "</table>\n",
              "</div>"
            ],
            "text/plain": [
              "       PassengerId    Survived      Pclass  ...       SibSp       Parch        Fare\n",
              "count   891.000000  891.000000  891.000000  ...  891.000000  891.000000  891.000000\n",
              "mean    446.000000    0.383838    2.308642  ...    0.523008    0.381594   32.204208\n",
              "std     257.353842    0.486592    0.836071  ...    1.102743    0.806057   49.693429\n",
              "min       1.000000    0.000000    1.000000  ...    0.000000    0.000000    0.000000\n",
              "25%     223.500000    0.000000    2.000000  ...    0.000000    0.000000    7.910400\n",
              "50%     446.000000    0.000000    3.000000  ...    0.000000    0.000000   14.454200\n",
              "75%     668.500000    1.000000    3.000000  ...    1.000000    0.000000   31.000000\n",
              "max     891.000000    1.000000    3.000000  ...    8.000000    6.000000  512.329200\n",
              "\n",
              "[8 rows x 7 columns]"
            ]
          },
          "metadata": {
            "tags": []
          },
          "execution_count": 4
        }
      ]
    },
    {
      "cell_type": "code",
      "metadata": {
        "colab": {
          "base_uri": "https://localhost:8080/"
        },
        "id": "5dR3n4IkNFlW",
        "outputId": "61346f11-01c0-4133-e819-db110956b605"
      },
      "source": [
        "df.info()"
      ],
      "execution_count": 5,
      "outputs": [
        {
          "output_type": "stream",
          "text": [
            "<class 'pandas.core.frame.DataFrame'>\n",
            "RangeIndex: 891 entries, 0 to 890\n",
            "Data columns (total 12 columns):\n",
            " #   Column       Non-Null Count  Dtype  \n",
            "---  ------       --------------  -----  \n",
            " 0   PassengerId  891 non-null    int64  \n",
            " 1   Survived     891 non-null    int64  \n",
            " 2   Pclass       891 non-null    int64  \n",
            " 3   Name         891 non-null    object \n",
            " 4   Sex          891 non-null    object \n",
            " 5   Age          714 non-null    float64\n",
            " 6   SibSp        891 non-null    int64  \n",
            " 7   Parch        891 non-null    int64  \n",
            " 8   Ticket       891 non-null    object \n",
            " 9   Fare         891 non-null    float64\n",
            " 10  Cabin        204 non-null    object \n",
            " 11  Embarked     889 non-null    object \n",
            "dtypes: float64(2), int64(5), object(5)\n",
            "memory usage: 83.7+ KB\n"
          ],
          "name": "stdout"
        }
      ]
    },
    {
      "cell_type": "code",
      "metadata": {
        "colab": {
          "base_uri": "https://localhost:8080/"
        },
        "id": "UZ3GA1w3NFoT",
        "outputId": "f29e814d-d403-4e09-86d6-aa908b8adf07"
      },
      "source": [
        "df.nunique()"
      ],
      "execution_count": 6,
      "outputs": [
        {
          "output_type": "execute_result",
          "data": {
            "text/plain": [
              "PassengerId    891\n",
              "Survived         2\n",
              "Pclass           3\n",
              "Name           891\n",
              "Sex              2\n",
              "Age             88\n",
              "SibSp            7\n",
              "Parch            7\n",
              "Ticket         681\n",
              "Fare           248\n",
              "Cabin          147\n",
              "Embarked         3\n",
              "dtype: int64"
            ]
          },
          "metadata": {
            "tags": []
          },
          "execution_count": 6
        }
      ]
    },
    {
      "cell_type": "code",
      "metadata": {
        "colab": {
          "base_uri": "https://localhost:8080/"
        },
        "id": "Ye01GalNNFrH",
        "outputId": "10bfa737-236e-4820-ed9d-5dc5f72ac5ec"
      },
      "source": [
        "df.shape"
      ],
      "execution_count": 7,
      "outputs": [
        {
          "output_type": "execute_result",
          "data": {
            "text/plain": [
              "(891, 12)"
            ]
          },
          "metadata": {
            "tags": []
          },
          "execution_count": 7
        }
      ]
    },
    {
      "cell_type": "code",
      "metadata": {
        "colab": {
          "base_uri": "https://localhost:8080/"
        },
        "id": "NEgo0LLPNFur",
        "outputId": "d6254a0a-9d10-46d2-fa73-b0e40a626710"
      },
      "source": [
        "df.isnull().sum()"
      ],
      "execution_count": 8,
      "outputs": [
        {
          "output_type": "execute_result",
          "data": {
            "text/plain": [
              "PassengerId      0\n",
              "Survived         0\n",
              "Pclass           0\n",
              "Name             0\n",
              "Sex              0\n",
              "Age            177\n",
              "SibSp            0\n",
              "Parch            0\n",
              "Ticket           0\n",
              "Fare             0\n",
              "Cabin          687\n",
              "Embarked         2\n",
              "dtype: int64"
            ]
          },
          "metadata": {
            "tags": []
          },
          "execution_count": 8
        }
      ]
    },
    {
      "cell_type": "code",
      "metadata": {
        "colab": {
          "base_uri": "https://localhost:8080/",
          "height": 349
        },
        "id": "pz0kJ6RVNFyu",
        "outputId": "1c51a8b8-db69-40d5-b2f2-6b795950e4c9"
      },
      "source": [
        "sns.heatmap(df.isnull(), cbar = False).set_title(\"Missing values heatmap\")\n"
      ],
      "execution_count": 9,
      "outputs": [
        {
          "output_type": "execute_result",
          "data": {
            "text/plain": [
              "Text(0.5, 1.0, 'Missing values heatmap')"
            ]
          },
          "metadata": {
            "tags": []
          },
          "execution_count": 9
        },
        {
          "output_type": "display_data",
          "data": {
            "image/png": "[encoded data removed]",
            "text/plain": [
              "<Figure size 432x288 with 1 Axes>"
            ]
          },
          "metadata": {
            "tags": [],
            "needs_background": "light"
          }
        }
      ]
    },
    {
      "cell_type": "code",
      "metadata": {
        "id": "XWmT5iaDNF2E"
      },
      "source": [
        "df['Age'] = df['Age'].fillna(df['Age'].mean())"
      ],
      "execution_count": 10,
      "outputs": []
    },
    {
      "cell_type": "code",
      "metadata": {
        "colab": {
          "base_uri": "https://localhost:8080/"
        },
        "id": "2u-VLOa3NF4v",
        "outputId": "2b38751a-3d8d-457b-a411-62b802cfe447"
      },
      "source": [
        "df['Age'].isnull().sum()\n"
      ],
      "execution_count": 11,
      "outputs": [
        {
          "output_type": "execute_result",
          "data": {
            "text/plain": [
              "0"
            ]
          },
          "metadata": {
            "tags": []
          },
          "execution_count": 11
        }
      ]
    },
    {
      "cell_type": "code",
      "metadata": {
        "id": "cAmTFHFlErAz",
        "colab": {
          "base_uri": "https://localhost:8080/"
        },
        "outputId": "5bcb0b8b-1f33-4dab-f1a7-6fcfbbeeaa82"
      },
      "source": [
        "df['Embarked'].value_counts()"
      ],
      "execution_count": 12,
      "outputs": [
        {
          "output_type": "execute_result",
          "data": {
            "text/plain": [
              "S    644\n",
              "C    168\n",
              "Q     77\n",
              "Name: Embarked, dtype: int64"
            ]
          },
          "metadata": {
            "tags": []
          },
          "execution_count": 12
        }
      ]
    },
    {
      "cell_type": "code",
      "metadata": {
        "id": "JqD-olNXRvXK"
      },
      "source": [
        "df['Embarked'] = df['Embarked'].fillna(df['Embarked'].value_counts().index[0])\n"
      ],
      "execution_count": 13,
      "outputs": []
    },
    {
      "cell_type": "code",
      "metadata": {
        "colab": {
          "base_uri": "https://localhost:8080/"
        },
        "id": "Y4Eqn0C7NlAJ",
        "outputId": "6f3dacbc-9f0b-47e6-de52-e419d6ae4c23"
      },
      "source": [
        "df['Embarked'].isnull().sum()\n"
      ],
      "execution_count": 14,
      "outputs": [
        {
          "output_type": "execute_result",
          "data": {
            "text/plain": [
              "0"
            ]
          },
          "metadata": {
            "tags": []
          },
          "execution_count": 14
        }
      ]
    },
    {
      "cell_type": "code",
      "metadata": {
        "id": "yhjAHBWeNlC-"
      },
      "source": [
        "df['Cabin'] = df['Cabin'].fillna('Unknown')\n"
      ],
      "execution_count": 15,
      "outputs": []
    },
    {
      "cell_type": "code",
      "metadata": {
        "colab": {
          "base_uri": "https://localhost:8080/"
        },
        "id": "yLz5LyyINlGX",
        "outputId": "847c9170-8ccf-42e4-8635-f5894b158124"
      },
      "source": [
        "df['Cabin'].isnull().sum()\n"
      ],
      "execution_count": 16,
      "outputs": [
        {
          "output_type": "execute_result",
          "data": {
            "text/plain": [
              "0"
            ]
          },
          "metadata": {
            "tags": []
          },
          "execution_count": 16
        }
      ]
    },
    {
      "cell_type": "code",
      "metadata": {
        "colab": {
          "base_uri": "https://localhost:8080/",
          "height": 349
        },
        "id": "O2QIvFiCNlIp",
        "outputId": "8796e098-4228-4d8d-f550-aa88fbabe4e9"
      },
      "source": [
        "sns.heatmap(df.isnull(), cbar = False).set_title(\"Missing values heatmap\")"
      ],
      "execution_count": 17,
      "outputs": [
        {
          "output_type": "execute_result",
          "data": {
            "text/plain": [
              "Text(0.5, 1.0, 'Missing values heatmap')"
            ]
          },
          "metadata": {
            "tags": []
          },
          "execution_count": 17
        },
        {
          "output_type": "display_data",
          "data": {
            "image/png": "[encoded data removed]",
            "text/plain": [
              "<Figure size 432x288 with 1 Axes>"
            ]
          },
          "metadata": {
            "tags": [],
            "needs_background": "light"
          }
        }
      ]
    },
    {
      "cell_type": "code",
      "metadata": {
        "colab": {
          "base_uri": "https://localhost:8080/"
        },
        "id": "gT29gc3RNlLg",
        "outputId": "2f3e57f0-5a4c-4074-944e-92fc3c6e9b27"
      },
      "source": [
        "df.info()\n"
      ],
      "execution_count": 18,
      "outputs": [
        {
          "output_type": "stream",
          "text": [
            "<class 'pandas.core.frame.DataFrame'>\n",
            "RangeIndex: 891 entries, 0 to 890\n",
            "Data columns (total 12 columns):\n",
            " #   Column       Non-Null Count  Dtype  \n",
            "---  ------       --------------  -----  \n",
            " 0   PassengerId  891 non-null    int64  \n",
            " 1   Survived     891 non-null    int64  \n",
            " 2   Pclass       891 non-null    int64  \n",
            " 3   Name         891 non-null    object \n",
            " 4   Sex          891 non-null    object \n",
            " 5   Age          891 non-null    float64\n",
            " 6   SibSp        891 non-null    int64  \n",
            " 7   Parch        891 non-null    int64  \n",
            " 8   Ticket       891 non-null    object \n",
            " 9   Fare         891 non-null    float64\n",
            " 10  Cabin        891 non-null    object \n",
            " 11  Embarked     891 non-null    object \n",
            "dtypes: float64(2), int64(5), object(5)\n",
            "memory usage: 83.7+ KB\n"
          ],
          "name": "stdout"
        }
      ]
    },
    {
      "cell_type": "code",
      "metadata": {
        "colab": {
          "base_uri": "https://localhost:8080/",
          "height": 483
        },
        "id": "unx8wq8iNlN-",
        "outputId": "bd89c05a-9943-4192-89c1-72bf2af1e17b"
      },
      "source": [
        "plt.figure(figsize=(8, 8))\n",
        "df.Survived.value_counts().plot(kind = 'pie', labels=[\"No\", \"Yes\"], autopct='%1.2f%%')"
      ],
      "execution_count": 19,
      "outputs": [
        {
          "output_type": "execute_result",
          "data": {
            "text/plain": [
              "<matplotlib.axes._subplots.AxesSubplot at 0x7f4a2a5c4ed0>"
            ]
          },
          "metadata": {
            "tags": []
          },
          "execution_count": 19
        },
        {
          "output_type": "display_data",
          "data": {
            "image/png": "[encoded data removed]",
            "text/plain": [
              "<Figure size 576x576 with 1 Axes>"
            ]
          },
          "metadata": {
            "tags": []
          }
        }
      ]
    },
    {
      "cell_type": "code",
      "metadata": {
        "colab": {
          "base_uri": "https://localhost:8080/",
          "height": 349
        },
        "id": "uglPpWoyQCJd",
        "outputId": "c8e0b4d9-41ff-4ab5-fa5d-6c2c1b9f68e4"
      },
      "source": [
        "# how many survived (Gender Wise)\n",
        "sns.countplot(x='Sex', hue='Survived', data=df)\n",
        "df.groupby('Sex')['Survived'].mean()"
      ],
      "execution_count": 20,
      "outputs": [
        {
          "output_type": "execute_result",
          "data": {
            "text/plain": [
              "Sex\n",
              "female    0.742038\n",
              "male      0.188908\n",
              "Name: Survived, dtype: float64"
            ]
          },
          "metadata": {
            "tags": []
          },
          "execution_count": 20
        },
        {
          "output_type": "display_data",
          "data": {
            "image/png": "[encoded data removed]",
            "text/plain": [
              "<Figure size 432x288 with 1 Axes>"
            ]
          },
          "metadata": {
            "tags": [],
            "needs_background": "light"
          }
        }
      ]
    },
    {
      "cell_type": "code",
      "metadata": {
        "colab": {
          "base_uri": "https://localhost:8080/",
          "height": 366
        },
        "id": "bie_mQSlNlTU",
        "outputId": "28fce1ed-a4b7-41e8-b350-586393e07c38"
      },
      "source": [
        "sns.countplot(x='Pclass', hue='Survived', data=df)\n",
        "df.groupby('Pclass')['Survived'].mean()\n",
        "#Passengers with higher ticket class (lower Pclass) have higher chances of survival."
      ],
      "execution_count": 21,
      "outputs": [
        {
          "output_type": "execute_result",
          "data": {
            "text/plain": [
              "Pclass\n",
              "1    0.629630\n",
              "2    0.472826\n",
              "3    0.242363\n",
              "Name: Survived, dtype: float64"
            ]
          },
          "metadata": {
            "tags": []
          },
          "execution_count": 21
        },
        {
          "output_type": "display_data",
          "data": {
            "image/png": "[encoded data removed]",
            "text/plain": [
              "<Figure size 432x288 with 1 Axes>"
            ]
          },
          "metadata": {
            "tags": [],
            "needs_background": "light"
          }
        }
      ]
    },
    {
      "cell_type": "code",
      "metadata": {
        "id": "-GdupAYwNlWM"
      },
      "source": [
        ""
      ],
      "execution_count": 21,
      "outputs": []
    }
  ]
}